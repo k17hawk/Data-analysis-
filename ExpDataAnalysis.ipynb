{
 "cells": [
  {
   "cell_type": "markdown",
   "metadata": {},
   "source": [
    "# data analysis"
   ]
  },
  {
   "cell_type": "code",
   "execution_count": 1,
   "metadata": {},
   "outputs": [],
   "source": [
    "import numpy as np\n",
    "import pandas as pd\n",
    "import seaborn as sns\n",
    "import matplotlib.pyplot as plt"
   ]
  },
  {
   "cell_type": "code",
   "execution_count": 2,
   "metadata": {},
   "outputs": [
    {
     "data": {
      "text/html": [
       "<div>\n",
       "<style scoped>\n",
       "    .dataframe tbody tr th:only-of-type {\n",
       "        vertical-align: middle;\n",
       "    }\n",
       "\n",
       "    .dataframe tbody tr th {\n",
       "        vertical-align: top;\n",
       "    }\n",
       "\n",
       "    .dataframe thead th {\n",
       "        text-align: right;\n",
       "    }\n",
       "</style>\n",
       "<table border=\"1\" class=\"dataframe\">\n",
       "  <thead>\n",
       "    <tr style=\"text-align: right;\">\n",
       "      <th></th>\n",
       "      <th>datetime</th>\n",
       "      <th>season</th>\n",
       "      <th>holiday</th>\n",
       "      <th>workingday</th>\n",
       "      <th>weather</th>\n",
       "      <th>temp</th>\n",
       "      <th>atemp</th>\n",
       "      <th>humidity</th>\n",
       "      <th>windspeed</th>\n",
       "      <th>casual</th>\n",
       "      <th>registered</th>\n",
       "      <th>count</th>\n",
       "    </tr>\n",
       "  </thead>\n",
       "  <tbody>\n",
       "    <tr>\n",
       "      <th>0</th>\n",
       "      <td>2011-01-01 00:00:00</td>\n",
       "      <td>1</td>\n",
       "      <td>0</td>\n",
       "      <td>0</td>\n",
       "      <td>1</td>\n",
       "      <td>9.84</td>\n",
       "      <td>14.395</td>\n",
       "      <td>81</td>\n",
       "      <td>0.0</td>\n",
       "      <td>3</td>\n",
       "      <td>13</td>\n",
       "      <td>16</td>\n",
       "    </tr>\n",
       "    <tr>\n",
       "      <th>1</th>\n",
       "      <td>2011-01-01 01:00:00</td>\n",
       "      <td>1</td>\n",
       "      <td>0</td>\n",
       "      <td>0</td>\n",
       "      <td>1</td>\n",
       "      <td>9.02</td>\n",
       "      <td>13.635</td>\n",
       "      <td>80</td>\n",
       "      <td>0.0</td>\n",
       "      <td>8</td>\n",
       "      <td>32</td>\n",
       "      <td>40</td>\n",
       "    </tr>\n",
       "    <tr>\n",
       "      <th>2</th>\n",
       "      <td>2011-01-01 02:00:00</td>\n",
       "      <td>1</td>\n",
       "      <td>0</td>\n",
       "      <td>0</td>\n",
       "      <td>1</td>\n",
       "      <td>9.02</td>\n",
       "      <td>13.635</td>\n",
       "      <td>80</td>\n",
       "      <td>0.0</td>\n",
       "      <td>5</td>\n",
       "      <td>27</td>\n",
       "      <td>32</td>\n",
       "    </tr>\n",
       "    <tr>\n",
       "      <th>3</th>\n",
       "      <td>2011-01-01 03:00:00</td>\n",
       "      <td>1</td>\n",
       "      <td>0</td>\n",
       "      <td>0</td>\n",
       "      <td>1</td>\n",
       "      <td>9.84</td>\n",
       "      <td>14.395</td>\n",
       "      <td>75</td>\n",
       "      <td>0.0</td>\n",
       "      <td>3</td>\n",
       "      <td>10</td>\n",
       "      <td>13</td>\n",
       "    </tr>\n",
       "    <tr>\n",
       "      <th>4</th>\n",
       "      <td>2011-01-01 04:00:00</td>\n",
       "      <td>1</td>\n",
       "      <td>0</td>\n",
       "      <td>0</td>\n",
       "      <td>1</td>\n",
       "      <td>9.84</td>\n",
       "      <td>14.395</td>\n",
       "      <td>75</td>\n",
       "      <td>0.0</td>\n",
       "      <td>0</td>\n",
       "      <td>1</td>\n",
       "      <td>1</td>\n",
       "    </tr>\n",
       "  </tbody>\n",
       "</table>\n",
       "</div>"
      ],
      "text/plain": [
       "              datetime  season  holiday  workingday  weather  temp   atemp  \\\n",
       "0  2011-01-01 00:00:00       1        0           0        1  9.84  14.395   \n",
       "1  2011-01-01 01:00:00       1        0           0        1  9.02  13.635   \n",
       "2  2011-01-01 02:00:00       1        0           0        1  9.02  13.635   \n",
       "3  2011-01-01 03:00:00       1        0           0        1  9.84  14.395   \n",
       "4  2011-01-01 04:00:00       1        0           0        1  9.84  14.395   \n",
       "\n",
       "   humidity  windspeed  casual  registered  count  \n",
       "0        81        0.0       3          13     16  \n",
       "1        80        0.0       8          32     40  \n",
       "2        80        0.0       5          27     32  \n",
       "3        75        0.0       3          10     13  \n",
       "4        75        0.0       0           1      1  "
      ]
     },
     "execution_count": 2,
     "metadata": {},
     "output_type": "execute_result"
    }
   ],
   "source": [
    "df = pd.read_csv('train.csv')\n",
    "df.head()"
   ]
  },
  {
   "cell_type": "code",
   "execution_count": 3,
   "metadata": {},
   "outputs": [
    {
     "name": "stdout",
     "output_type": "stream",
     "text": [
      "(10886, 12)\n"
     ]
    }
   ],
   "source": [
    "print(df.shape)"
   ]
  },
  {
   "cell_type": "code",
   "execution_count": 4,
   "metadata": {},
   "outputs": [
    {
     "data": {
      "text/plain": [
       "datetime      0\n",
       "season        0\n",
       "holiday       0\n",
       "workingday    0\n",
       "weather       0\n",
       "temp          0\n",
       "atemp         0\n",
       "humidity      0\n",
       "windspeed     0\n",
       "casual        0\n",
       "registered    0\n",
       "count         0\n",
       "dtype: int64"
      ]
     },
     "execution_count": 4,
     "metadata": {},
     "output_type": "execute_result"
    }
   ],
   "source": [
    "df.isnull().sum()"
   ]
  },
  {
   "cell_type": "markdown",
   "metadata": {},
   "source": [
    " no missing values are present"
   ]
  },
  {
   "cell_type": "code",
   "execution_count": 5,
   "metadata": {},
   "outputs": [
    {
     "name": "stdout",
     "output_type": "stream",
     "text": [
      "<class 'pandas.core.frame.DataFrame'>\n",
      "RangeIndex: 10886 entries, 0 to 10885\n",
      "Data columns (total 12 columns):\n",
      " #   Column      Non-Null Count  Dtype  \n",
      "---  ------      --------------  -----  \n",
      " 0   datetime    10886 non-null  object \n",
      " 1   season      10886 non-null  int64  \n",
      " 2   holiday     10886 non-null  int64  \n",
      " 3   workingday  10886 non-null  int64  \n",
      " 4   weather     10886 non-null  int64  \n",
      " 5   temp        10886 non-null  float64\n",
      " 6   atemp       10886 non-null  float64\n",
      " 7   humidity    10886 non-null  int64  \n",
      " 8   windspeed   10886 non-null  float64\n",
      " 9   casual      10886 non-null  int64  \n",
      " 10  registered  10886 non-null  int64  \n",
      " 11  count       10886 non-null  int64  \n",
      "dtypes: float64(3), int64(8), object(1)\n",
      "memory usage: 1020.7+ KB\n"
     ]
    }
   ],
   "source": [
    "df.info()"
   ]
  },
  {
   "cell_type": "code",
   "execution_count": 6,
   "metadata": {},
   "outputs": [
    {
     "data": {
      "text/plain": [
       "['season',\n",
       " 'holiday',\n",
       " 'workingday',\n",
       " 'weather',\n",
       " 'temp',\n",
       " 'atemp',\n",
       " 'humidity',\n",
       " 'windspeed',\n",
       " 'casual',\n",
       " 'registered',\n",
       " 'count']"
      ]
     },
     "execution_count": 6,
     "metadata": {},
     "output_type": "execute_result"
    }
   ],
   "source": [
    "##grouping numerical feature in one side\n",
    "numerical_features = [feature for feature in df.columns if df[feature].dtypes != 'O' and  'datetime' not in feature]\n",
    "numerical_features"
   ]
  },
  {
   "cell_type": "code",
   "execution_count": 7,
   "metadata": {},
   "outputs": [
    {
     "data": {
      "text/plain": [
       "['season', 'holiday', 'workingday', 'weather']"
      ]
     },
     "execution_count": 7,
     "metadata": {},
     "output_type": "execute_result"
    }
   ],
   "source": [
    "##since,we have 2 types of numerical features mainly, discrete and continous\n",
    "discrete_features = [feature for feature in numerical_features if len(df[feature].unique())<10]\n",
    "discrete_features"
   ]
  },
  {
   "cell_type": "code",
   "execution_count": 8,
   "metadata": {},
   "outputs": [
    {
     "data": {
      "text/plain": [
       "['temp', 'atemp', 'humidity', 'windspeed', 'casual', 'registered', 'count']"
      ]
     },
     "execution_count": 8,
     "metadata": {},
     "output_type": "execute_result"
    }
   ],
   "source": [
    "continous_feature =[feature for feature in numerical_features if feature not in discrete_features ]\n",
    "continous_feature"
   ]
  },
  {
   "cell_type": "markdown",
   "metadata": {},
   "source": [
    "# 1"
   ]
  },
  {
   "cell_type": "code",
   "execution_count": 9,
   "metadata": {},
   "outputs": [
    {
     "data": {
      "image/png": "[encoded data removed]",
      "text/plain": [
       "<Figure size 432x288 with 2 Axes>"
      ]
     },
     "metadata": {
      "needs_background": "light"
     },
     "output_type": "display_data"
    },
    {
     "data": {
      "image/png": "[encoded data removed]",
      "text/plain": [
       "<Figure size 432x288 with 2 Axes>"
      ]
     },
     "metadata": {
      "needs_background": "light"
     },
     "output_type": "display_data"
    },
    {
     "data": {
      "image/png": "[encoded data removed]",
      "text/plain": [
       "<Figure size 432x288 with 2 Axes>"
      ]
     },
     "metadata": {
      "needs_background": "light"
     },
     "output_type": "display_data"
    },
    {
     "data": {
      "image/png": "[encoded data removed]",
      "text/plain": [
       "<Figure size 432x288 with 2 Axes>"
      ]
     },
     "metadata": {
      "needs_background": "light"
     },
     "output_type": "display_data"
    }
   ],
   "source": [
    "##considering count as a dependent column,we plot the scatter-plot of descrete feature for analysing it\n",
    "for feature in discrete_features:\n",
    "    data=df.copy()\n",
    "    data.plot.scatter(x=feature,y='count',colormap='viridis')\n",
    "    plt.xlabel(feature)\n",
    "    plt.ylabel('count')\n",
    "    plt.title(feature)\n",
    "    plt.show()"
   ]
  },
  {
   "cell_type": "markdown",
   "metadata": {},
   "source": [
    "from the plot we see that the distribution fallows  Bernoulli distribution "
   ]
  },
  {
   "cell_type": "code",
   "execution_count": 10,
   "metadata": {},
   "outputs": [
    {
     "data": {
      "text/plain": [
       "1    7192\n",
       "2    2834\n",
       "3     859\n",
       "4       1\n",
       "Name: weather, dtype: int64"
      ]
     },
     "execution_count": 10,
     "metadata": {},
     "output_type": "execute_result"
    }
   ],
   "source": [
    "##from the plot we see that weather has only one value in 4th feature,let's dive deep by exploring it\n",
    "df['weather'].value_counts()"
   ]
  },
  {
   "cell_type": "code",
   "execution_count": 11,
   "metadata": {},
   "outputs": [],
   "source": [
    "##since the data is single and considered as outlier,we can drop it\n",
    "df.drop(df[df['weather']==4].index,axis=0,inplace=True) "
   ]
  },
  {
   "cell_type": "code",
   "execution_count": 12,
   "metadata": {},
   "outputs": [
    {
     "data": {
      "text/html": [
       "<div>\n",
       "<style scoped>\n",
       "    .dataframe tbody tr th:only-of-type {\n",
       "        vertical-align: middle;\n",
       "    }\n",
       "\n",
       "    .dataframe tbody tr th {\n",
       "        vertical-align: top;\n",
       "    }\n",
       "\n",
       "    .dataframe thead th {\n",
       "        text-align: right;\n",
       "    }\n",
       "</style>\n",
       "<table border=\"1\" class=\"dataframe\">\n",
       "  <thead>\n",
       "    <tr style=\"text-align: right;\">\n",
       "      <th></th>\n",
       "      <th>count</th>\n",
       "      <th>mean</th>\n",
       "      <th>std</th>\n",
       "      <th>min</th>\n",
       "      <th>25%</th>\n",
       "      <th>50%</th>\n",
       "      <th>75%</th>\n",
       "      <th>max</th>\n",
       "    </tr>\n",
       "    <tr>\n",
       "      <th>weather</th>\n",
       "      <th></th>\n",
       "      <th></th>\n",
       "      <th></th>\n",
       "      <th></th>\n",
       "      <th></th>\n",
       "      <th></th>\n",
       "      <th></th>\n",
       "      <th></th>\n",
       "    </tr>\n",
       "  </thead>\n",
       "  <tbody>\n",
       "    <tr>\n",
       "      <th>1</th>\n",
       "      <td>7192.0</td>\n",
       "      <td>205.236791</td>\n",
       "      <td>187.959566</td>\n",
       "      <td>1.0</td>\n",
       "      <td>48.0</td>\n",
       "      <td>161.0</td>\n",
       "      <td>305.0</td>\n",
       "      <td>977.0</td>\n",
       "    </tr>\n",
       "    <tr>\n",
       "      <th>2</th>\n",
       "      <td>2834.0</td>\n",
       "      <td>178.955540</td>\n",
       "      <td>168.366413</td>\n",
       "      <td>1.0</td>\n",
       "      <td>41.0</td>\n",
       "      <td>134.0</td>\n",
       "      <td>264.0</td>\n",
       "      <td>890.0</td>\n",
       "    </tr>\n",
       "    <tr>\n",
       "      <th>3</th>\n",
       "      <td>859.0</td>\n",
       "      <td>118.846333</td>\n",
       "      <td>138.581297</td>\n",
       "      <td>1.0</td>\n",
       "      <td>23.0</td>\n",
       "      <td>71.0</td>\n",
       "      <td>161.0</td>\n",
       "      <td>891.0</td>\n",
       "    </tr>\n",
       "  </tbody>\n",
       "</table>\n",
       "</div>"
      ],
      "text/plain": [
       "          count        mean         std  min   25%    50%    75%    max\n",
       "weather                                                                \n",
       "1        7192.0  205.236791  187.959566  1.0  48.0  161.0  305.0  977.0\n",
       "2        2834.0  178.955540  168.366413  1.0  41.0  134.0  264.0  890.0\n",
       "3         859.0  118.846333  138.581297  1.0  23.0   71.0  161.0  891.0"
      ]
     },
     "execution_count": 12,
     "metadata": {},
     "output_type": "execute_result"
    }
   ],
   "source": [
    "##now grouping the weather data with count and understanding the describe\n",
    "df.groupby('weather')['count'].describe() "
   ]
  },
  {
   "cell_type": "markdown",
   "metadata": {},
   "source": [
    "the results shows that the mean of three different values are different,\n",
    "lets perform analysis of variance(ANOVA) to see the significant \n",
    "\n",
    "h0 - reflects the null hypthosis, mean is Same\n",
    "\n",
    "h1 - denotes the alternative hypthosis, atleast one mean is different from other"
   ]
  },
  {
   "cell_type": "code",
   "execution_count": 13,
   "metadata": {},
   "outputs": [
    {
     "name": "stdout",
     "output_type": "stream",
     "text": [
      "p_value is : 4.976448509904196e-43\n",
      " Reject null hypothesis\n"
     ]
    }
   ],
   "source": [
    "from scipy.stats import f_oneway\n",
    "alpha = 0.05\n",
    "Stats,p_value = f_oneway(df['count'][df['weather']==1],\n",
    "                               df['count'][df['weather']==2],\n",
    "                               df['count'][df['weather']==3])\n",
    "print('p_value is :',p_value)\n",
    "if p_value > alpha :\n",
    "  print('Accept null hypothesis' )\n",
    "else:\n",
    "  print(' Reject null hypothesis')"
   ]
  },
  {
   "cell_type": "markdown",
   "metadata": {},
   "source": [
    "this conclude the weather has impact on count of tourist and from the scatter plot we see that ,weather1 has more tourist count as compared to other"
   ]
  },
  {
   "cell_type": "markdown",
   "metadata": {},
   "source": [
    "the results conclude that the means of all the independent groups are not same,\n",
    "now lets dive more by seeing which group is different from one another"
   ]
  },
  {
   "cell_type": "code",
   "execution_count": 14,
   "metadata": {},
   "outputs": [
    {
     "name": "stdout",
     "output_type": "stream",
     "text": [
      " Multiple Comparison of Means - Tukey HSD, FWER=0.05  \n",
      "======================================================\n",
      "group1 group2 meandiff p-adj   lower    upper   reject\n",
      "------------------------------------------------------\n",
      "     1      2 -26.2813 0.001  -35.6159 -16.9466   True\n",
      "     1      3 -86.3905 0.001 -101.5842 -71.1968   True\n",
      "     2      3 -60.1092 0.001   -76.502 -43.7164   True\n",
      "------------------------------------------------------\n"
     ]
    }
   ],
   "source": [
    "##using Tukeys Honestly significant difference --- HSD\n",
    "from statsmodels.stats.multicomp import MultiComparison \n",
    "mul_comp = MultiComparison(df['count'],df['weather'])   \n",
    "mul_result = mul_comp.tukeyhsd()\n",
    "print(mul_result)"
   ]
  },
  {
   "cell_type": "markdown",
   "metadata": {},
   "source": [
    "the results shows reject=True for all ,so three mean of each group differ from one another,hence the mean is significantly different and each group of weather has different impact on count"
   ]
  },
  {
   "cell_type": "code",
   "execution_count": 15,
   "metadata": {},
   "outputs": [
    {
     "data": {
      "text/html": [
       "<div>\n",
       "<style scoped>\n",
       "    .dataframe tbody tr th:only-of-type {\n",
       "        vertical-align: middle;\n",
       "    }\n",
       "\n",
       "    .dataframe tbody tr th {\n",
       "        vertical-align: top;\n",
       "    }\n",
       "\n",
       "    .dataframe thead th {\n",
       "        text-align: right;\n",
       "    }\n",
       "</style>\n",
       "<table border=\"1\" class=\"dataframe\">\n",
       "  <thead>\n",
       "    <tr style=\"text-align: right;\">\n",
       "      <th></th>\n",
       "      <th>count</th>\n",
       "      <th>mean</th>\n",
       "      <th>std</th>\n",
       "      <th>min</th>\n",
       "      <th>25%</th>\n",
       "      <th>50%</th>\n",
       "      <th>75%</th>\n",
       "      <th>max</th>\n",
       "    </tr>\n",
       "    <tr>\n",
       "      <th>season</th>\n",
       "      <th></th>\n",
       "      <th></th>\n",
       "      <th></th>\n",
       "      <th></th>\n",
       "      <th></th>\n",
       "      <th></th>\n",
       "      <th></th>\n",
       "      <th></th>\n",
       "    </tr>\n",
       "  </thead>\n",
       "  <tbody>\n",
       "    <tr>\n",
       "      <th>1</th>\n",
       "      <td>2685.0</td>\n",
       "      <td>116.325512</td>\n",
       "      <td>125.293931</td>\n",
       "      <td>1.0</td>\n",
       "      <td>24.0</td>\n",
       "      <td>78.0</td>\n",
       "      <td>164.0</td>\n",
       "      <td>801.0</td>\n",
       "    </tr>\n",
       "    <tr>\n",
       "      <th>2</th>\n",
       "      <td>2733.0</td>\n",
       "      <td>215.251372</td>\n",
       "      <td>192.007843</td>\n",
       "      <td>1.0</td>\n",
       "      <td>49.0</td>\n",
       "      <td>172.0</td>\n",
       "      <td>321.0</td>\n",
       "      <td>873.0</td>\n",
       "    </tr>\n",
       "    <tr>\n",
       "      <th>3</th>\n",
       "      <td>2733.0</td>\n",
       "      <td>234.417124</td>\n",
       "      <td>197.151001</td>\n",
       "      <td>1.0</td>\n",
       "      <td>68.0</td>\n",
       "      <td>195.0</td>\n",
       "      <td>347.0</td>\n",
       "      <td>977.0</td>\n",
       "    </tr>\n",
       "    <tr>\n",
       "      <th>4</th>\n",
       "      <td>2734.0</td>\n",
       "      <td>198.988296</td>\n",
       "      <td>177.622409</td>\n",
       "      <td>1.0</td>\n",
       "      <td>51.0</td>\n",
       "      <td>161.0</td>\n",
       "      <td>294.0</td>\n",
       "      <td>948.0</td>\n",
       "    </tr>\n",
       "  </tbody>\n",
       "</table>\n",
       "</div>"
      ],
      "text/plain": [
       "         count        mean         std  min   25%    50%    75%    max\n",
       "season                                                                \n",
       "1       2685.0  116.325512  125.293931  1.0  24.0   78.0  164.0  801.0\n",
       "2       2733.0  215.251372  192.007843  1.0  49.0  172.0  321.0  873.0\n",
       "3       2733.0  234.417124  197.151001  1.0  68.0  195.0  347.0  977.0\n",
       "4       2734.0  198.988296  177.622409  1.0  51.0  161.0  294.0  948.0"
      ]
     },
     "execution_count": 15,
     "metadata": {},
     "output_type": "execute_result"
    }
   ],
   "source": [
    "#analysing the season\n",
    "#check the seasons describe\n",
    "df.groupby('season')['count'].describe()"
   ]
  },
  {
   "cell_type": "markdown",
   "metadata": {},
   "source": [
    "here also the means of all 4 group are different so they are significantly different and have different impact on count"
   ]
  },
  {
   "cell_type": "code",
   "execution_count": 16,
   "metadata": {},
   "outputs": [
    {
     "name": "stdout",
     "output_type": "stream",
     "text": [
      "p_value is : 6.204069471997093e-149\n",
      " Reject null hypothesis\n"
     ]
    }
   ],
   "source": [
    "alpha = 0.05\n",
    "Stats,p_value = f_oneway(df['count'][df['season']==1],\n",
    "                               df['count'][df['season']==2],\n",
    "                               df['count'][df['season']==3],\n",
    "                               df['count'][df['season']==4])\n",
    "print('p_value is :',p_value)\n",
    "if p_value > alpha :\n",
    "  print('Accept null hypothesis' )\n",
    "else:\n",
    "  print(' Reject null hypothesis')"
   ]
  },
  {
   "cell_type": "markdown",
   "metadata": {},
   "source": [
    "this conclude the season has impact on count of tourist and from the scatter plot we see that, season3 has hike the count of tourist"
   ]
  },
  {
   "cell_type": "code",
   "execution_count": 17,
   "metadata": {},
   "outputs": [
    {
     "name": "stdout",
     "output_type": "stream",
     "text": [
      "                            sum_sq       df           F         PR(>F)\n",
      "C(weather)            6.022043e+06      2.0   99.604322   1.361093e-43\n",
      "C(season)             2.158708e+07      3.0  238.032851  1.350921e-149\n",
      "C(weather):C(season)  5.588352e+05      6.0    3.081036   5.150817e-03\n",
      "Residual              3.286889e+08  10873.0         NaN            NaN\n"
     ]
    }
   ],
   "source": [
    "##using the two-way anova test to see the result of two different independent  variable on one dependent  variable.\n",
    "import statsmodels.api as sm\n",
    "from statsmodels.formula.api import ols\n",
    "combined_feat = ols('count ~ C(weather) * C(season)',df).fit()\n",
    "table = sm.stats.anova_lm(combined_feat, typ=2) # Type 2 Anova DataFrame\n",
    "print(table)"
   ]
  },
  {
   "cell_type": "markdown",
   "metadata": {},
   "source": [
    "from the results we see that p-values< 0.05 so there is significantly different among the count"
   ]
  },
  {
   "cell_type": "code",
   "execution_count": 18,
   "metadata": {},
   "outputs": [
    {
     "data": {
      "text/html": [
       "<div>\n",
       "<style scoped>\n",
       "    .dataframe tbody tr th:only-of-type {\n",
       "        vertical-align: middle;\n",
       "    }\n",
       "\n",
       "    .dataframe tbody tr th {\n",
       "        vertical-align: top;\n",
       "    }\n",
       "\n",
       "    .dataframe thead th {\n",
       "        text-align: right;\n",
       "    }\n",
       "</style>\n",
       "<table border=\"1\" class=\"dataframe\">\n",
       "  <thead>\n",
       "    <tr style=\"text-align: right;\">\n",
       "      <th></th>\n",
       "      <th>count</th>\n",
       "      <th>mean</th>\n",
       "      <th>std</th>\n",
       "      <th>min</th>\n",
       "      <th>25%</th>\n",
       "      <th>50%</th>\n",
       "      <th>75%</th>\n",
       "      <th>max</th>\n",
       "    </tr>\n",
       "    <tr>\n",
       "      <th>workingday</th>\n",
       "      <th></th>\n",
       "      <th></th>\n",
       "      <th></th>\n",
       "      <th></th>\n",
       "      <th></th>\n",
       "      <th></th>\n",
       "      <th></th>\n",
       "      <th></th>\n",
       "    </tr>\n",
       "  </thead>\n",
       "  <tbody>\n",
       "    <tr>\n",
       "      <th>0</th>\n",
       "      <td>3474.0</td>\n",
       "      <td>188.506621</td>\n",
       "      <td>173.724015</td>\n",
       "      <td>1.0</td>\n",
       "      <td>44.0</td>\n",
       "      <td>128.0</td>\n",
       "      <td>304.0</td>\n",
       "      <td>783.0</td>\n",
       "    </tr>\n",
       "    <tr>\n",
       "      <th>1</th>\n",
       "      <td>7411.0</td>\n",
       "      <td>193.015787</td>\n",
       "      <td>184.525801</td>\n",
       "      <td>1.0</td>\n",
       "      <td>41.0</td>\n",
       "      <td>151.0</td>\n",
       "      <td>277.0</td>\n",
       "      <td>977.0</td>\n",
       "    </tr>\n",
       "  </tbody>\n",
       "</table>\n",
       "</div>"
      ],
      "text/plain": [
       "             count        mean         std  min   25%    50%    75%    max\n",
       "workingday                                                                \n",
       "0           3474.0  188.506621  173.724015  1.0  44.0  128.0  304.0  783.0\n",
       "1           7411.0  193.015787  184.525801  1.0  41.0  151.0  277.0  977.0"
      ]
     },
     "execution_count": 18,
     "metadata": {},
     "output_type": "execute_result"
    }
   ],
   "source": [
    "#check the workingday describe\n",
    "df.groupby('workingday')['count'].describe()"
   ]
  },
  {
   "cell_type": "markdown",
   "metadata": {},
   "source": [
    "the results shows that the mean of workingday group is different ,let's dive by analysing the difference in the mean count  of workingday 0 and 1  using T-test"
   ]
  },
  {
   "cell_type": "code",
   "execution_count": 19,
   "metadata": {},
   "outputs": [
    {
     "name": "stdout",
     "output_type": "stream",
     "text": [
      "(7411, 12) (3474, 12)\n"
     ]
    }
   ],
   "source": [
    "#dividing the workingday in its respective group\n",
    "working_1 = df[df['workingday'] == 1]   \n",
    "working_0 = df[df['workingday'] == 0]\n",
    "print(working_1.shape,working_0.shape)"
   ]
  },
  {
   "cell_type": "code",
   "execution_count": 20,
   "metadata": {},
   "outputs": [
    {
     "name": "stdout",
     "output_type": "stream",
     "text": [
      "p_value : 0.770453710568045\n",
      "Variances are same accept null hypothesis\n"
     ]
    }
   ],
   "source": [
    "##analysing the homogeneity variances \n",
    "##working_0 have 3474 rows and working_1 have 7411, fixing the same ratio in working_1 to.\n",
    "##taking the sample size from the population \n",
    "working_1 = working_1.sample(3474)\n",
    "from scipy import stats\n",
    "tStat, pValue =  stats.levene(working_1['count'], working_0['count'])\n",
    "print(\"p_value :\",pValue)\n",
    "if pValue > 0.05:\n",
    "    print('Variances are same accept null hypothesis')\n",
    "else:\n",
    "    print('Variances are not same reject null hypothesis')"
   ]
  },
  {
   "cell_type": "markdown",
   "metadata": {},
   "source": [
    "hence Variances of the 2 samples are equal"
   ]
  },
  {
   "cell_type": "code",
   "execution_count": 23,
   "metadata": {},
   "outputs": [
    {
     "data": {
      "image/png": "[encoded data removed]",
      "text/plain": [
       "<Figure size 864x432 with 1 Axes>"
      ]
     },
     "metadata": {
      "needs_background": "light"
     },
     "output_type": "display_data"
    }
   ],
   "source": [
    "##checking either it fallows normal distribution or not\n",
    "#first compute the difference between them  and scaledown the data \n",
    "from sklearn.preprocessing import scale\n",
    "diff = scale((np.array(working_1['count']) - np.array(working_0['count'])))\n",
    "plt.figure(figsize=(12,6))\n",
    "stats.probplot(diff,plot=plt,dist='norm')\n",
    "plt.show()"
   ]
  },
  {
   "cell_type": "markdown",
   "metadata": {},
   "source": [
    "most of the points are overlapping the best fit line which proves that they are normally distributed,however few standard-deviation points are scattered from best fit,although most of the line close to the redline it is normal distribution\n"
   ]
  },
  {
   "cell_type": "code",
   "execution_count": 24,
   "metadata": {},
   "outputs": [
    {
     "name": "stdout",
     "output_type": "stream",
     "text": [
      "p_value : 0.5602766410341585\n",
      "Accept Null hypthosis\n"
     ]
    }
   ],
   "source": [
    "##implementing independent t-test\n",
    "from scipy import stats\n",
    "alpha = 0.05\n",
    "statistic , p_value = stats.ttest_ind(working_1['count'],working_0['count'])\n",
    "print('p_value :',p_value)\n",
    "if p_value > alpha:\n",
    "  print(\"Accept Null hypthosis\")\n",
    "else:\n",
    "  print('Reject the null hypthosis')"
   ]
  },
  {
   "cell_type": "markdown",
   "metadata": {},
   "source": [
    "hence the tourist count is not influnced by workingday"
   ]
  },
  {
   "cell_type": "code",
   "execution_count": 25,
   "metadata": {},
   "outputs": [
    {
     "data": {
      "text/html": [
       "<div>\n",
       "<style scoped>\n",
       "    .dataframe tbody tr th:only-of-type {\n",
       "        vertical-align: middle;\n",
       "    }\n",
       "\n",
       "    .dataframe tbody tr th {\n",
       "        vertical-align: top;\n",
       "    }\n",
       "\n",
       "    .dataframe thead th {\n",
       "        text-align: right;\n",
       "    }\n",
       "</style>\n",
       "<table border=\"1\" class=\"dataframe\">\n",
       "  <thead>\n",
       "    <tr style=\"text-align: right;\">\n",
       "      <th></th>\n",
       "      <th>count</th>\n",
       "      <th>mean</th>\n",
       "      <th>std</th>\n",
       "      <th>min</th>\n",
       "      <th>25%</th>\n",
       "      <th>50%</th>\n",
       "      <th>75%</th>\n",
       "      <th>max</th>\n",
       "    </tr>\n",
       "    <tr>\n",
       "      <th>holiday</th>\n",
       "      <th></th>\n",
       "      <th></th>\n",
       "      <th></th>\n",
       "      <th></th>\n",
       "      <th></th>\n",
       "      <th></th>\n",
       "      <th></th>\n",
       "      <th></th>\n",
       "    </tr>\n",
       "  </thead>\n",
       "  <tbody>\n",
       "    <tr>\n",
       "      <th>0</th>\n",
       "      <td>10574.0</td>\n",
       "      <td>191.744278</td>\n",
       "      <td>181.521514</td>\n",
       "      <td>1.0</td>\n",
       "      <td>43.0</td>\n",
       "      <td>145.0</td>\n",
       "      <td>283.0</td>\n",
       "      <td>977.0</td>\n",
       "    </tr>\n",
       "    <tr>\n",
       "      <th>1</th>\n",
       "      <td>311.0</td>\n",
       "      <td>185.877814</td>\n",
       "      <td>168.300531</td>\n",
       "      <td>1.0</td>\n",
       "      <td>38.5</td>\n",
       "      <td>133.0</td>\n",
       "      <td>308.0</td>\n",
       "      <td>712.0</td>\n",
       "    </tr>\n",
       "  </tbody>\n",
       "</table>\n",
       "</div>"
      ],
      "text/plain": [
       "           count        mean         std  min   25%    50%    75%    max\n",
       "holiday                                                                 \n",
       "0        10574.0  191.744278  181.521514  1.0  43.0  145.0  283.0  977.0\n",
       "1          311.0  185.877814  168.300531  1.0  38.5  133.0  308.0  712.0"
      ]
     },
     "execution_count": 25,
     "metadata": {},
     "output_type": "execute_result"
    }
   ],
   "source": [
    "#check the holiday describe\n",
    "df.groupby('holiday')['count'].describe()"
   ]
  },
  {
   "cell_type": "code",
   "execution_count": 26,
   "metadata": {},
   "outputs": [
    {
     "name": "stdout",
     "output_type": "stream",
     "text": [
      "(10574, 12) (311, 12)\n"
     ]
    }
   ],
   "source": [
    "holiday_0 = df[df['holiday'] == 1]   \n",
    "holiday_1 = df[df['holiday'] == 0]\n",
    "print(holiday_1.shape,holiday_0.shape)"
   ]
  },
  {
   "cell_type": "code",
   "execution_count": 27,
   "metadata": {},
   "outputs": [
    {
     "name": "stdout",
     "output_type": "stream",
     "text": [
      "p_value : 0.5735386706500636\n",
      "there is no difference in mean\n"
     ]
    }
   ],
   "source": [
    "alpha = 0.05\n",
    "statistic , p_value = stats.ttest_ind(holiday_0['count'],holiday_1['count'])\n",
    "print('p_value :',p_value)\n",
    "if p_value > alpha:\n",
    "  print(\"there is no difference in mean\")\n",
    "else:\n",
    "  print('There is difference in mean')"
   ]
  },
  {
   "cell_type": "markdown",
   "metadata": {},
   "source": [
    "hence the tourist count is not influnced by holiday"
   ]
  },
  {
   "cell_type": "markdown",
   "metadata": {},
   "source": [
    "# 2"
   ]
  },
  {
   "cell_type": "code",
   "execution_count": 28,
   "metadata": {},
   "outputs": [
    {
     "data": {
      "image/png": "[encoded data removed]",
      "text/plain": [
       "<Figure size 432x288 with 1 Axes>"
      ]
     },
     "metadata": {
      "needs_background": "light"
     },
     "output_type": "display_data"
    },
    {
     "data": {
      "image/png": "[encoded data removed]",
      "text/plain": [
       "<Figure size 432x288 with 1 Axes>"
      ]
     },
     "metadata": {
      "needs_background": "light"
     },
     "output_type": "display_data"
    },
    {
     "data": {
      "image/png": "[encoded data removed]",
      "text/plain": [
       "<Figure size 432x288 with 1 Axes>"
      ]
     },
     "metadata": {
      "needs_background": "light"
     },
     "output_type": "display_data"
    },
    {
     "data": {
      "image/png": "[encoded data removed]",
      "text/plain": [
       "<Figure size 432x288 with 1 Axes>"
      ]
     },
     "metadata": {
      "needs_background": "light"
     },
     "output_type": "display_data"
    },
    {
     "data": {
      "image/png": "[encoded data removed]",
      "text/plain": [
       "<Figure size 432x288 with 1 Axes>"
      ]
     },
     "metadata": {
      "needs_background": "light"
     },
     "output_type": "display_data"
    },
    {
     "data": {
      "image/png": "[encoded data removed]",
      "text/plain": [
       "<Figure size 432x288 with 1 Axes>"
      ]
     },
     "metadata": {
      "needs_background": "light"
     },
     "output_type": "display_data"
    },
    {
     "data": {
      "image/png": "[encoded data removed]",
      "text/plain": [
       "<Figure size 432x288 with 1 Axes>"
      ]
     },
     "metadata": {
      "needs_background": "light"
     },
     "output_type": "display_data"
    }
   ],
   "source": [
    "#plotting the continous feature\n",
    "for feature in continous_feature:\n",
    "    data=df.copy()\n",
    "    data[feature].hist(bins=25)\n",
    "    plt.xlabel(feature)\n",
    "    plt.ylabel(\"Count\")\n",
    "    plt.title(feature)\n",
    "    plt.show()"
   ]
  },
  {
   "cell_type": "markdown",
   "metadata": {},
   "source": [
    "the graph fallows exponintaial distribution and close to normal distribution"
   ]
  },
  {
   "cell_type": "code",
   "execution_count": 30,
   "metadata": {},
   "outputs": [
    {
     "name": "stdout",
     "output_type": "stream",
     "text": [
      "0.0\n",
      " Reject Null Hypothesis count is dependent on casual\n"
     ]
    }
   ],
   "source": [
    "##applying the chisquare test on casual \n",
    "data  = df.copy()\n",
    "dataset = pd.crosstab(data['casual'],data['count'])\n",
    "from scipy.stats import chi2_contingency\n",
    "alpha = 0.05\n",
    "stats,p_value,degrees_of_freedom,expected = chi2_contingency(dataset)\n",
    "print(p_value)\n",
    "if p_value > alpha:\n",
    "  print(' Accept Null Hypothesis  count is  Independent on casual')\n",
    "else:\n",
    "  print(' Reject Null Hypothesis count is dependent on casual')"
   ]
  },
  {
   "cell_type": "markdown",
   "metadata": {},
   "source": [
    "hence this proved that if the  customer casually visit the site there is the chance that count may increased"
   ]
  },
  {
   "cell_type": "code",
   "execution_count": 37,
   "metadata": {},
   "outputs": [
    {
     "name": "stdout",
     "output_type": "stream",
     "text": [
      "0.0\n",
      " Reject Null Hypothesis count is dependent on registered\n"
     ]
    }
   ],
   "source": [
    "##applying the chi-square test in registered and count \n",
    "crosstab = pd.crosstab(data['registered'],data['count'])\n",
    "alpha = 0.05\n",
    "stats,p_value,degrees_of_freedom,expected = chi2_contingency(crosstab)\n",
    "print(p_value)\n",
    "if p_value > alpha:\n",
    "  print(' Accept Null Hypothesis  count is  Independent on registered')\n",
    "else:\n",
    "  print(' Reject Null Hypothesis count is dependent on registered')"
   ]
  },
  {
   "cell_type": "code",
   "execution_count": 38,
   "metadata": {},
   "outputs": [
    {
     "name": "stdout",
     "output_type": "stream",
     "text": [
      "1.0\n",
      " Accept Null Hypothesis  count is  Independent of windspeed\n"
     ]
    }
   ],
   "source": [
    "##applying the chi-square test in windspeed and count \n",
    "cross = pd.crosstab(data['windspeed'],data['count'])\n",
    "alpha = 0.05\n",
    "stats,p_value,degrees_of_freedom,expected = chi2_contingency(cross)\n",
    "print(p_value)\n",
    "if p_value > alpha:\n",
    "  print(' Accept Null Hypothesis  count is  Independent of windspeed')\n",
    "else:\n",
    "  print(' Reject Null Hypothesis count is dependent on windspeed')"
   ]
  },
  {
   "cell_type": "markdown",
   "metadata": {},
   "source": [
    "here windspeed doesnot  influence of count becase of p_value > alpha"
   ]
  },
  {
   "cell_type": "code",
   "execution_count": 41,
   "metadata": {},
   "outputs": [
    {
     "name": "stdout",
     "output_type": "stream",
     "text": [
      "2.558233927614829e-16\n",
      " Reject Null Hypothesis count is dependent on humidity\n"
     ]
    }
   ],
   "source": [
    "##applying the chi-square test in humidity and count \n",
    "tab = pd.crosstab(data['humidity'],data['count'])\n",
    "alpha = 0.05\n",
    "stats,p_value,degrees_of_freedom,expected = chi2_contingency(tab)\n",
    "print(p_value)\n",
    "if p_value > alpha:\n",
    "  print(' Accept Null Hypothesis  count is  Independent of humidity')\n",
    "else:\n",
    "  print(' Reject Null Hypothesis count is dependent on humidity')"
   ]
  },
  {
   "cell_type": "code",
   "execution_count": 42,
   "metadata": {},
   "outputs": [
    {
     "data": {
      "text/plain": [
       "0.9849454118314125"
      ]
     },
     "execution_count": 42,
     "metadata": {},
     "output_type": "execute_result"
    }
   ],
   "source": [
    "##it seems like temp and atemp is similar,checking the correlation\n",
    "df['atemp'].corr(df['temp'])"
   ]
  },
  {
   "cell_type": "markdown",
   "metadata": {},
   "source": [
    "well,temp and atemp has the correlation of 0.8949 .. which says that it provide the same information,can drop it."
   ]
  },
  {
   "cell_type": "code",
   "execution_count": 43,
   "metadata": {},
   "outputs": [],
   "source": [
    "data = df.copy()\n",
    "data.drop(['atemp'],axis = 1,inplace=True)\n"
   ]
  },
  {
   "cell_type": "code",
   "execution_count": 44,
   "metadata": {},
   "outputs": [
    {
     "name": "stdout",
     "output_type": "stream",
     "text": [
      "4.608527822388507e-07\n",
      " Reject Null Hypothesis count is dependent on temp\n"
     ]
    }
   ],
   "source": [
    "##applying the chi-square test in temp and count \n",
    "tabcross = pd.crosstab(data['temp'],data['count'])\n",
    "alpha = 0.05\n",
    "stats,p_value,degrees_of_freedom,expected = chi2_contingency(tabcross)\n",
    "print(p_value)\n",
    "if p_value > alpha:\n",
    "  print(' Accept Null Hypothesis  count is  Independent of temp')\n",
    "else:\n",
    "  print(' Reject Null Hypothesis count is dependent on temp')"
   ]
  },
  {
   "cell_type": "markdown",
   "metadata": {},
   "source": [
    "# 3"
   ]
  },
  {
   "cell_type": "code",
   "execution_count": 45,
   "metadata": {},
   "outputs": [
    {
     "data": {
      "text/html": [
       "<div>\n",
       "<style scoped>\n",
       "    .dataframe tbody tr th:only-of-type {\n",
       "        vertical-align: middle;\n",
       "    }\n",
       "\n",
       "    .dataframe tbody tr th {\n",
       "        vertical-align: top;\n",
       "    }\n",
       "\n",
       "    .dataframe thead th {\n",
       "        text-align: right;\n",
       "    }\n",
       "</style>\n",
       "<table border=\"1\" class=\"dataframe\">\n",
       "  <thead>\n",
       "    <tr style=\"text-align: right;\">\n",
       "      <th></th>\n",
       "      <th>season</th>\n",
       "      <th>holiday</th>\n",
       "      <th>workingday</th>\n",
       "      <th>weather</th>\n",
       "      <th>temp</th>\n",
       "      <th>humidity</th>\n",
       "      <th>windspeed</th>\n",
       "      <th>casual</th>\n",
       "      <th>registered</th>\n",
       "      <th>count</th>\n",
       "    </tr>\n",
       "  </thead>\n",
       "  <tbody>\n",
       "    <tr>\n",
       "      <th>season</th>\n",
       "      <td>1.000000</td>\n",
       "      <td>0.029349</td>\n",
       "      <td>-0.008042</td>\n",
       "      <td>0.009392</td>\n",
       "      <td>0.258547</td>\n",
       "      <td>0.190795</td>\n",
       "      <td>-0.147241</td>\n",
       "      <td>0.096693</td>\n",
       "      <td>0.164026</td>\n",
       "      <td>0.163434</td>\n",
       "    </tr>\n",
       "    <tr>\n",
       "      <th>holiday</th>\n",
       "      <td>0.029349</td>\n",
       "      <td>1.000000</td>\n",
       "      <td>-0.250486</td>\n",
       "      <td>-0.007015</td>\n",
       "      <td>0.000270</td>\n",
       "      <td>0.001949</td>\n",
       "      <td>0.008396</td>\n",
       "      <td>0.043790</td>\n",
       "      <td>-0.020955</td>\n",
       "      <td>-0.005395</td>\n",
       "    </tr>\n",
       "    <tr>\n",
       "      <th>workingday</th>\n",
       "      <td>-0.008042</td>\n",
       "      <td>-0.250486</td>\n",
       "      <td>1.000000</td>\n",
       "      <td>0.033542</td>\n",
       "      <td>0.030067</td>\n",
       "      <td>-0.010960</td>\n",
       "      <td>0.013426</td>\n",
       "      <td>-0.319085</td>\n",
       "      <td>0.119461</td>\n",
       "      <td>0.011604</td>\n",
       "    </tr>\n",
       "    <tr>\n",
       "      <th>weather</th>\n",
       "      <td>0.009392</td>\n",
       "      <td>-0.007015</td>\n",
       "      <td>0.033542</td>\n",
       "      <td>1.000000</td>\n",
       "      <td>-0.054505</td>\n",
       "      <td>0.406114</td>\n",
       "      <td>0.007579</td>\n",
       "      <td>-0.135799</td>\n",
       "      <td>-0.109430</td>\n",
       "      <td>-0.128696</td>\n",
       "    </tr>\n",
       "    <tr>\n",
       "      <th>temp</th>\n",
       "      <td>0.258547</td>\n",
       "      <td>0.000270</td>\n",
       "      <td>0.030067</td>\n",
       "      <td>-0.054505</td>\n",
       "      <td>1.000000</td>\n",
       "      <td>-0.064783</td>\n",
       "      <td>-0.017973</td>\n",
       "      <td>0.467071</td>\n",
       "      <td>0.318608</td>\n",
       "      <td>0.394476</td>\n",
       "    </tr>\n",
       "    <tr>\n",
       "      <th>humidity</th>\n",
       "      <td>0.190795</td>\n",
       "      <td>0.001949</td>\n",
       "      <td>-0.010960</td>\n",
       "      <td>0.406114</td>\n",
       "      <td>-0.064783</td>\n",
       "      <td>1.000000</td>\n",
       "      <td>-0.318544</td>\n",
       "      <td>-0.348149</td>\n",
       "      <td>-0.265479</td>\n",
       "      <td>-0.317377</td>\n",
       "    </tr>\n",
       "    <tr>\n",
       "      <th>windspeed</th>\n",
       "      <td>-0.147241</td>\n",
       "      <td>0.008396</td>\n",
       "      <td>0.013426</td>\n",
       "      <td>0.007579</td>\n",
       "      <td>-0.017973</td>\n",
       "      <td>-0.318544</td>\n",
       "      <td>1.000000</td>\n",
       "      <td>0.092235</td>\n",
       "      <td>0.091056</td>\n",
       "      <td>0.101361</td>\n",
       "    </tr>\n",
       "    <tr>\n",
       "      <th>casual</th>\n",
       "      <td>0.096693</td>\n",
       "      <td>0.043790</td>\n",
       "      <td>-0.319085</td>\n",
       "      <td>-0.135799</td>\n",
       "      <td>0.467071</td>\n",
       "      <td>-0.348149</td>\n",
       "      <td>0.092235</td>\n",
       "      <td>1.000000</td>\n",
       "      <td>0.497259</td>\n",
       "      <td>0.690417</td>\n",
       "    </tr>\n",
       "    <tr>\n",
       "      <th>registered</th>\n",
       "      <td>0.164026</td>\n",
       "      <td>-0.020955</td>\n",
       "      <td>0.119461</td>\n",
       "      <td>-0.109430</td>\n",
       "      <td>0.318608</td>\n",
       "      <td>-0.265479</td>\n",
       "      <td>0.091056</td>\n",
       "      <td>0.497259</td>\n",
       "      <td>1.000000</td>\n",
       "      <td>0.970949</td>\n",
       "    </tr>\n",
       "    <tr>\n",
       "      <th>count</th>\n",
       "      <td>0.163434</td>\n",
       "      <td>-0.005395</td>\n",
       "      <td>0.011604</td>\n",
       "      <td>-0.128696</td>\n",
       "      <td>0.394476</td>\n",
       "      <td>-0.317377</td>\n",
       "      <td>0.101361</td>\n",
       "      <td>0.690417</td>\n",
       "      <td>0.970949</td>\n",
       "      <td>1.000000</td>\n",
       "    </tr>\n",
       "  </tbody>\n",
       "</table>\n",
       "</div>"
      ],
      "text/plain": [
       "              season   holiday  workingday   weather      temp  humidity  \\\n",
       "season      1.000000  0.029349   -0.008042  0.009392  0.258547  0.190795   \n",
       "holiday     0.029349  1.000000   -0.250486 -0.007015  0.000270  0.001949   \n",
       "workingday -0.008042 -0.250486    1.000000  0.033542  0.030067 -0.010960   \n",
       "weather     0.009392 -0.007015    0.033542  1.000000 -0.054505  0.406114   \n",
       "temp        0.258547  0.000270    0.030067 -0.054505  1.000000 -0.064783   \n",
       "humidity    0.190795  0.001949   -0.010960  0.406114 -0.064783  1.000000   \n",
       "windspeed  -0.147241  0.008396    0.013426  0.007579 -0.017973 -0.318544   \n",
       "casual      0.096693  0.043790   -0.319085 -0.135799  0.467071 -0.348149   \n",
       "registered  0.164026 -0.020955    0.119461 -0.109430  0.318608 -0.265479   \n",
       "count       0.163434 -0.005395    0.011604 -0.128696  0.394476 -0.317377   \n",
       "\n",
       "            windspeed    casual  registered     count  \n",
       "season      -0.147241  0.096693    0.164026  0.163434  \n",
       "holiday      0.008396  0.043790   -0.020955 -0.005395  \n",
       "workingday   0.013426 -0.319085    0.119461  0.011604  \n",
       "weather      0.007579 -0.135799   -0.109430 -0.128696  \n",
       "temp        -0.017973  0.467071    0.318608  0.394476  \n",
       "humidity    -0.318544 -0.348149   -0.265479 -0.317377  \n",
       "windspeed    1.000000  0.092235    0.091056  0.101361  \n",
       "casual       0.092235  1.000000    0.497259  0.690417  \n",
       "registered   0.091056  0.497259    1.000000  0.970949  \n",
       "count        0.101361  0.690417    0.970949  1.000000  "
      ]
     },
     "execution_count": 45,
     "metadata": {},
     "output_type": "execute_result"
    }
   ],
   "source": [
    "#displaying the correlation with all features\n",
    "data.corr()"
   ]
  },
  {
   "cell_type": "code",
   "execution_count": 46,
   "metadata": {},
   "outputs": [
    {
     "data": {
      "text/plain": [
       "Index(['casual', 'registered', 'count'], dtype='object')"
      ]
     },
     "execution_count": 46,
     "metadata": {},
     "output_type": "execute_result"
    }
   ],
   "source": [
    "##checking correlation with respect to count\n",
    "highly_corr = df.corr()\n",
    "high_corr_feat  = highly_corr.index[abs(highly_corr['count'])>0.5]\n",
    "\n",
    "high_corr_feat"
   ]
  },
  {
   "cell_type": "code",
   "execution_count": 47,
   "metadata": {},
   "outputs": [
    {
     "data": {
      "text/plain": [
       "(3.5, -0.5)"
      ]
     },
     "execution_count": 47,
     "metadata": {},
     "output_type": "execute_result"
    },
    {
     "data": {
      "image/png": "[encoded data removed]",
      "text/plain": [
       "<Figure size 720x576 with 2 Axes>"
      ]
     },
     "metadata": {
      "needs_background": "light"
     },
     "output_type": "display_data"
    }
   ],
   "source": [
    "##plotting correlation with respect to count\n",
    "plt.figure(figsize=(10,8))\n",
    "ax = sns.heatmap(df[high_corr_feat].corr(),cmap=\"coolwarm\",linewidth = 3)\n",
    "bottom,top = ax.get_ylim()\n",
    "ax.set_ylim(bottom + 0.5 , top-0.5)"
   ]
  },
  {
   "cell_type": "markdown",
   "metadata": {},
   "source": [
    "the results shows that casual and count  have moderate correlation moreover registered and count is strongly positive correlated\n",
    "this says that most of the registered visitor have been counted"
   ]
  },
  {
   "cell_type": "code",
   "execution_count": 48,
   "metadata": {},
   "outputs": [
    {
     "data": {
      "text/plain": [
       "['temp', 'atemp', 'humidity', 'windspeed', 'casual', 'registered', 'count']"
      ]
     },
     "execution_count": 48,
     "metadata": {},
     "output_type": "execute_result"
    }
   ],
   "source": [
    "##exploring the skewed data in continous_feature\n",
    "continous_feature"
   ]
  },
  {
   "cell_type": "code",
   "execution_count": 49,
   "metadata": {},
   "outputs": [
    {
     "data": {
      "image/png": "[encoded data removed]",
      "text/plain": [
       "<Figure size 432x288 with 1 Axes>"
      ]
     },
     "metadata": {
      "needs_background": "light"
     },
     "output_type": "display_data"
    },
    {
     "data": {
      "image/png": "[encoded data removed]",
      "text/plain": [
       "<Figure size 432x288 with 1 Axes>"
      ]
     },
     "metadata": {
      "needs_background": "light"
     },
     "output_type": "display_data"
    },
    {
     "data": {
      "image/png": "[encoded data removed]",
      "text/plain": [
       "<Figure size 432x288 with 1 Axes>"
      ]
     },
     "metadata": {
      "needs_background": "light"
     },
     "output_type": "display_data"
    }
   ],
   "source": [
    "for feature in continous_feature :\n",
    "    data = df.copy()\n",
    "    if 0 in data[feature].unique():\n",
    "        pass\n",
    "    else:\n",
    "        data[feature]=np.log(data[feature])\n",
    "        data.boxplot(column=feature)\n",
    "        plt.ylabel(feature)\n",
    "        plt.title(feature)\n",
    "        plt.show()"
   ]
  },
  {
   "cell_type": "markdown",
   "metadata": {},
   "source": [
    "the log normalized box plot of temp show that 0% is just below 2 count 25% is having count of above 2.5 ,50% is having count of exact 3.0 ,75% counting is around 3.3 and finally 100% is above 3.5 .Outliers are below 0% in this features could be also removed"
   ]
  }
 ],
 "metadata": {
  "kernelspec": {
   "display_name": "Python 3",
   "language": "python",
   "name": "python3"
  },
  "language_info": {
   "codemirror_mode": {
    "name": "ipython",
    "version": 3
   },
   "file_extension": ".py",
   "mimetype": "text/x-python",
   "name": "python",
   "nbconvert_exporter": "python",
   "pygments_lexer": "ipython3",
   "version": "3.7.6"
  }
 },
 "nbformat": 4,
 "nbformat_minor": 4
}
